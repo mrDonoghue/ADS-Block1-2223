{
  "cells": [
    {
      "cell_type": "markdown",
      "metadata": {
        "id": "view-in-github",
        "colab_type": "text"
      },
      "source": [
        "<a href=\"https://colab.research.google.com/github/mrDonoghue/ADS-Block1-2223/blob/main/nb2.ipynb\" target=\"_parent\"><img src=\"https://colab.research.google.com/assets/colab-badge.svg\" alt=\"Open In Colab\"/></a>"
      ]
    },
    {
      "cell_type": "markdown",
      "source": [
        "# Instructions\n",
        "* [go here for live instructions](https://docs.google.com/document/d/1Xtir6QuaGYkSYsbpLFpuMwUUNNEGsWmtLhDk1k3bR8g/edit?usp=sharing)"
      ],
      "metadata": {
        "id": "aZgYprF5w35M"
      }
    },
    {
      "cell_type": "markdown",
      "source": [
        "# Math\n",
        "\n",
        "## Linear algebra\n",
        "* Physics student perspective of vector: arrow with direction and magnitude/length\n",
        "* CS student perspective of vector: array/list of numbers\n",
        "* scalar: just a number, you silly billy\n",
        "* 2 fundamental things we do to vectors:\n",
        "  - add 2 vectors\n",
        "  - multiply a vector by a scalar\n",
        "\n",
        "* Give an example of each of the above\n"
      ],
      "metadata": {
        "id": "ua6i9it5paw4"
      }
    },
    {
      "cell_type": "markdown",
      "source": [
        "# Ethics\n",
        "* [Algorithm cuts healthcare](https://www.theverge.com/2018/3/21/17144260/healthcare-medicaid-algorithm-arkansas-cerebral-palsy)\n",
        "* [Youtube and conspiracy theories](https://www.nytimes.com/2019/02/19/technology/youtube-conspiracy-stars.html)\n",
        "* [Biased facial recognition](https://www.theverge.com/2019/1/25/18197137/amazon-rekognition-facial-recognition-bias-race-gender)\n",
        "\n"
      ],
      "metadata": {
        "id": "722N61IQoMVr"
      }
    },
    {
      "cell_type": "markdown",
      "source": [
        "# Case study\n",
        "* Topic: TODO\n",
        "* Link: TODO\n",
        "* One sentence summary: TODO\n",
        "* Who was harmed?: TODO\n",
        "* Notes:\n",
        " - TODO\n",
        " - TODO\n",
        " - TODO\n",
        "* Thoughts:\n",
        "  - TODO\n",
        "  - TODO\n",
        "  - TODO\n",
        "* Questions:\n",
        "  - TODO\n",
        "  - TODO\n",
        "  - TODO"
      ],
      "metadata": {
        "id": "9RA8wlicotzN"
      }
    },
    {
      "cell_type": "markdown",
      "source": [
        "# Coding"
      ],
      "metadata": {
        "id": "5IrfjCfsoECN"
      }
    },
    {
      "cell_type": "code",
      "execution_count": null,
      "metadata": {
        "id": "xoyfXiF4kJ7f",
        "colab": {
          "base_uri": "https://localhost:8080/"
        },
        "outputId": "93cea3b0-5364-4308-f868-87d47ea2e399"
      },
      "outputs": [
        {
          "output_type": "stream",
          "name": "stdout",
          "text": [
            "\u001b[K     |████████████████████████████████| 719 kB 5.0 MB/s \n",
            "\u001b[K     |████████████████████████████████| 441 kB 50.6 MB/s \n",
            "\u001b[K     |████████████████████████████████| 5.3 MB 38.8 MB/s \n",
            "\u001b[K     |████████████████████████████████| 1.3 MB 61.3 MB/s \n",
            "\u001b[K     |████████████████████████████████| 1.6 MB 51.9 MB/s \n",
            "\u001b[K     |████████████████████████████████| 212 kB 30.2 MB/s \n",
            "\u001b[K     |████████████████████████████████| 163 kB 57.2 MB/s \n",
            "\u001b[K     |████████████████████████████████| 115 kB 53.9 MB/s \n",
            "\u001b[K     |████████████████████████████████| 127 kB 60.6 MB/s \n",
            "\u001b[K     |████████████████████████████████| 115 kB 60.9 MB/s \n",
            "\u001b[K     |████████████████████████████████| 7.6 MB 14.8 MB/s \n",
            "\u001b[?25hMounted at /content/gdrive\n"
          ]
        }
      ],
      "source": [
        "#hide\n",
        "! [ -e /content ] && pip install -Uqq fastbook\n",
        "import fastbook\n",
        "fastbook.setup_book()"
      ]
    },
    {
      "cell_type": "code",
      "execution_count": null,
      "metadata": {
        "id": "RXC3h3yQkJ7g"
      },
      "outputs": [],
      "source": [
        "#hide\n",
        "from fastai.vision.all import *\n",
        "from fastbook import *\n",
        "import numpy as np\n",
        "import random\n",
        "matplotlib.rc('image', cmap='Greys_r')"
      ]
    },
    {
      "cell_type": "code",
      "source": [
        "num_rows = 200\n",
        "num_cols = 100\n",
        "vecs = [random.choices(range(5), k=num_cols)\n",
        " for _ in range(num_rows)]\n",
        "print(len(vecs[0]))"
      ],
      "metadata": {
        "id": "PK_MlKp4k0Hn",
        "outputId": "6740fb6a-81b9-4142-ac60-adb73e146e0f",
        "colab": {
          "base_uri": "https://localhost:8080/"
        }
      },
      "execution_count": null,
      "outputs": [
        {
          "output_type": "stream",
          "name": "stdout",
          "text": [
            "100\n"
          ]
        }
      ]
    },
    {
      "cell_type": "code",
      "source": [
        "def multiply(vec, scalar):\n",
        "  res = []\n",
        "  for num in vec:\n",
        "    res.append(num * scalar)\n",
        "  return res\n",
        "\n"
      ],
      "metadata": {
        "id": "hUpM4W6eluci"
      },
      "execution_count": null,
      "outputs": []
    },
    {
      "cell_type": "markdown",
      "source": [
        "# MNIST"
      ],
      "metadata": {
        "id": "Qml-GxMenMFM"
      }
    },
    {
      "cell_type": "code",
      "execution_count": null,
      "metadata": {
        "id": "7Ryh-VUMkJ7q",
        "outputId": "f844336c-58e8-4cb6-cba6-e9684dc6c8bd",
        "colab": {
          "base_uri": "https://localhost:8080/",
          "height": 37
        }
      },
      "outputs": [
        {
          "output_type": "display_data",
          "data": {
            "text/plain": [
              "<IPython.core.display.HTML object>"
            ],
            "text/html": [
              "\n",
              "<style>\n",
              "    /* Turns off some styling */\n",
              "    progress {\n",
              "        /* gets rid of default border in Firefox and Opera. */\n",
              "        border: none;\n",
              "        /* Needs to be in here for Safari polyfill so background images work as expected. */\n",
              "        background-size: auto;\n",
              "    }\n",
              "    progress:not([value]), progress:not([value])::-webkit-progress-bar {\n",
              "        background: repeating-linear-gradient(45deg, #7e7e7e, #7e7e7e 10px, #5c5c5c 10px, #5c5c5c 20px);\n",
              "    }\n",
              "    .progress-bar-interrupted, .progress-bar-interrupted::-webkit-progress-bar {\n",
              "        background: #F44336;\n",
              "    }\n",
              "</style>\n"
            ]
          },
          "metadata": {}
        },
        {
          "output_type": "display_data",
          "data": {
            "text/plain": [
              "<IPython.core.display.HTML object>"
            ],
            "text/html": [
              "\n",
              "    <div>\n",
              "      <progress value='3219456' class='' max='3214948' style='width:300px; height:20px; vertical-align: middle;'></progress>\n",
              "      100.14% [3219456/3214948 00:00&lt;00:00]\n",
              "    </div>\n",
              "    "
            ]
          },
          "metadata": {}
        }
      ],
      "source": [
        "path = untar_data(URLs.MNIST_SAMPLE)\n",
        "# uncompress and download the data\n",
        "# path is where uncompressed data is saved"
      ]
    },
    {
      "cell_type": "code",
      "execution_count": null,
      "metadata": {
        "id": "M_BwQKGKkJ7q"
      },
      "outputs": [],
      "source": [
        "Path.BASE_PATH = path\n",
        "# from now on, all paths\n",
        "# are relative to the location of\n",
        "# our data"
      ]
    },
    {
      "cell_type": "code",
      "source": [
        "print(path)"
      ],
      "metadata": {
        "id": "69WLV9DdJQKr",
        "outputId": "efb0c419-2cd9-4de8-ea15-54a12e1d58b3",
        "colab": {
          "base_uri": "https://localhost:8080/"
        }
      },
      "execution_count": null,
      "outputs": [
        {
          "output_type": "stream",
          "name": "stdout",
          "text": [
            "/root/.fastai/data/mnist_sample\n"
          ]
        }
      ]
    },
    {
      "cell_type": "code",
      "execution_count": null,
      "metadata": {
        "id": "ClmOBXsrkJ7q",
        "outputId": "56688391-0e18-4858-ede6-49f21450e38e",
        "colab": {
          "base_uri": "https://localhost:8080/"
        }
      },
      "outputs": [
        {
          "output_type": "execute_result",
          "data": {
            "text/plain": [
              "(#3) [Path('labels.csv'),Path('train'),Path('valid')]"
            ]
          },
          "metadata": {},
          "execution_count": 8
        }
      ],
      "source": [
        "path.ls()\n",
        "# shows the contents of path\n",
        "# train and valid and directories (aka folders)"
      ]
    },
    {
      "cell_type": "code",
      "execution_count": null,
      "metadata": {
        "id": "e7qdSvgKkJ7r",
        "outputId": "b584367d-3d83-4d83-eeb0-339d061757c8",
        "colab": {
          "base_uri": "https://localhost:8080/"
        }
      },
      "outputs": [
        {
          "output_type": "execute_result",
          "data": {
            "text/plain": [
              "(#2) [Path('train/3'),Path('train/7')]"
            ]
          },
          "metadata": {},
          "execution_count": 9
        }
      ],
      "source": [
        "(path/'train').ls()\n",
        "# path/'train' makes a path object\n",
        "# to path/train which I can ls"
      ]
    },
    {
      "cell_type": "code",
      "execution_count": null,
      "metadata": {
        "id": "gJkMiFe0kJ7r",
        "outputId": "a90c61a9-b320-46c6-9e93-bb96308a660b",
        "colab": {
          "base_uri": "https://localhost:8080/"
        }
      },
      "outputs": [
        {
          "output_type": "execute_result",
          "data": {
            "text/plain": [
              "(#6131) [Path('train/3/10.png'),Path('train/3/10000.png'),Path('train/3/10011.png'),Path('train/3/10031.png'),Path('train/3/10034.png'),Path('train/3/10042.png'),Path('train/3/10052.png'),Path('train/3/1007.png'),Path('train/3/10074.png'),Path('train/3/10091.png')...]"
            ]
          },
          "metadata": {},
          "execution_count": 10
        }
      ],
      "source": [
        "threes = (path/'train'/'3').ls().sorted()\n",
        "sevens = (path/'train'/'7').ls().sorted()\n",
        "threes"
      ]
    },
    {
      "cell_type": "code",
      "execution_count": null,
      "metadata": {
        "id": "9z4vfalIkJ7r",
        "outputId": "a667e615-1af9-446b-e514-e8466756bbe2",
        "colab": {
          "base_uri": "https://localhost:8080/",
          "height": 45
        }
      },
      "outputs": [
        {
          "output_type": "execute_result",
          "data": {
            "text/plain": [
              "<PIL.PngImagePlugin.PngImageFile image mode=L size=28x28>"
            ],
            "image/png": "[encoded data removed]"
          },
          "metadata": {},
          "execution_count": 11
        }
      ],
      "source": [
        "im3_path = threes[42]\n",
        "im3 = Image.open(im3_path)\n",
        "im3\n",
        "# just to look at things"
      ]
    },
    {
      "cell_type": "code",
      "execution_count": null,
      "metadata": {
        "id": "EYb9JuRtkJ7s",
        "outputId": "0736d4f6-cbe3-4b56-c5bc-4edfac9bfeee",
        "colab": {
          "base_uri": "https://localhost:8080/"
        }
      },
      "outputs": [
        {
          "output_type": "execute_result",
          "data": {
            "text/plain": [
              "array([[  0,   0,   0,   0,   0,   0],\n",
              "       [  0,   0,   0,   0,   0,   0],\n",
              "       [  0,   0,   0,   0,   0,   0],\n",
              "       [  0,   0,   0,   0,   0,  29],\n",
              "       [  0,   0,   0,   0,   0, 130],\n",
              "       [  0,   0,   0,   0,   0,  36]], dtype=uint8)"
            ]
          },
          "metadata": {},
          "execution_count": 12
        }
      ],
      "source": [
        "array(im3)[4:10,4:10]\n",
        "# show me rows 4 to 10 (not including 10)\n",
        "# columns 4 to 10 of im3 as a numpy array"
      ]
    },
    {
      "cell_type": "code",
      "execution_count": null,
      "metadata": {
        "id": "GBaz5Ns9kJ7s",
        "outputId": "89e6a01c-0851-4dc2-de51-d73a1c3c4dbe",
        "colab": {
          "base_uri": "https://localhost:8080/"
        }
      },
      "outputs": [
        {
          "output_type": "execute_result",
          "data": {
            "text/plain": [
              "tensor([[  0,   0,   0,   0,   0,   0],\n",
              "        [  0,   0,   0,   0,   0,   0],\n",
              "        [  0,   0,   0,   0,   0,   0],\n",
              "        [  0,   0,   0,   0,   0,  29],\n",
              "        [  0,   0,   0,   0,   0, 130],\n",
              "        [  0,   0,   0,   0,   0,  36]], dtype=torch.uint8)"
            ]
          },
          "metadata": {},
          "execution_count": 13
        }
      ],
      "source": [
        "tensor(im3)[4:10,4:10]\n",
        "# show me rows 4 to 10 (not including 10)\n",
        "# columns 4 to 10 of im3 as a pytorch tensor"
      ]
    },
    {
      "cell_type": "code",
      "execution_count": null,
      "metadata": {
        "id": "RezQYr0LkJ7s",
        "outputId": "ff05c89c-5c0c-4e10-eb23-5a6ad05dc188",
        "colab": {
          "base_uri": "https://localhost:8080/",
          "height": 394
        }
      },
      "outputs": [
        {
          "output_type": "execute_result",
          "data": {
            "text/plain": [
              "<pandas.io.formats.style.Styler at 0x7fed6df7b1d0>"
            ],
            "text/html": [
              "<style type=\"text/css\">\n",
              "#T_14035_row0_col0, #T_14035_row0_col1, #T_14035_row0_col2, #T_14035_row0_col3, #T_14035_row0_col4, #T_14035_row0_col5, #T_14035_row0_col6, #T_14035_row0_col7, #T_14035_row0_col8, #T_14035_row0_col9, #T_14035_row0_col15, #T_14035_row0_col16, #T_14035_row0_col17, #T_14035_row1_col0, #T_14035_row1_col1, #T_14035_row1_col2, #T_14035_row1_col3, #T_14035_row1_col4, #T_14035_row1_col5, #T_14035_row1_col6, #T_14035_row1_col7, #T_14035_row1_col8, #T_14035_row1_col16, #T_14035_row1_col17, #T_14035_row2_col0, #T_14035_row2_col1, #T_14035_row2_col2, #T_14035_row2_col3, #T_14035_row2_col4, #T_14035_row2_col5, #T_14035_row2_col17, #T_14035_row3_col0, #T_14035_row3_col1, #T_14035_row3_col2, #T_14035_row3_col3, #T_14035_row3_col4, #T_14035_row3_col17, #T_14035_row4_col0, #T_14035_row4_col1, #T_14035_row4_col2, #T_14035_row4_col3, #T_14035_row4_col4, #T_14035_row4_col12, #T_14035_row4_col17, #T_14035_row5_col0, #T_14035_row5_col1, #T_14035_row5_col2, #T_14035_row5_col3, #T_14035_row5_col4, #T_14035_row5_col10, #T_14035_row5_col11, #T_14035_row5_col17, #T_14035_row6_col0, #T_14035_row6_col1, #T_14035_row6_col2, #T_14035_row6_col3, #T_14035_row6_col4, #T_14035_row6_col5, #T_14035_row6_col8, #T_14035_row6_col9, #T_14035_row6_col16, #T_14035_row6_col17, #T_14035_row7_col0, #T_14035_row7_col1, #T_14035_row7_col2, #T_14035_row7_col3, #T_14035_row7_col4, #T_14035_row7_col5, #T_14035_row7_col6, #T_14035_row7_col7, #T_14035_row7_col8, #T_14035_row7_col15, #T_14035_row7_col16, #T_14035_row7_col17, #T_14035_row8_col0, #T_14035_row8_col1, #T_14035_row8_col2, #T_14035_row8_col3, #T_14035_row8_col4, #T_14035_row8_col5, #T_14035_row8_col6, #T_14035_row8_col13, #T_14035_row8_col14, #T_14035_row8_col15, #T_14035_row8_col16, #T_14035_row8_col17, #T_14035_row9_col0, #T_14035_row9_col1, #T_14035_row9_col2, #T_14035_row9_col3, #T_14035_row9_col17, #T_14035_row10_col0, #T_14035_row10_col1, #T_14035_row10_col2, #T_14035_row10_col3 {\n",
              "  font-size: 6pt;\n",
              "  background-color: #000000;\n",
              "  color: #f1f1f1;\n",
              "}\n",
              "#T_14035_row0_col10 {\n",
              "  font-size: 6pt;\n",
              "  background-color: #090909;\n",
              "  color: #f1f1f1;\n",
              "}\n",
              "#T_14035_row0_col11 {\n",
              "  font-size: 6pt;\n",
              "  background-color: #616161;\n",
              "  color: #f1f1f1;\n",
              "}\n",
              "#T_14035_row0_col12, #T_14035_row5_col6 {\n",
              "  font-size: 6pt;\n",
              "  background-color: #fafafa;\n",
              "  color: #000000;\n",
              "}\n",
              "#T_14035_row0_col13, #T_14035_row6_col11 {\n",
              "  font-size: 6pt;\n",
              "  background-color: #909090;\n",
              "  color: #f1f1f1;\n",
              "}\n",
              "#T_14035_row0_col14 {\n",
              "  font-size: 6pt;\n",
              "  background-color: #0d0d0d;\n",
              "  color: #f1f1f1;\n",
              "}\n",
              "#T_14035_row1_col9, #T_14035_row5_col5 {\n",
              "  font-size: 6pt;\n",
              "  background-color: #2b2b2b;\n",
              "  color: #f1f1f1;\n",
              "}\n",
              "#T_14035_row1_col10 {\n",
              "  font-size: 6pt;\n",
              "  background-color: #bababa;\n",
              "  color: #000000;\n",
              "}\n",
              "#T_14035_row1_col11, #T_14035_row1_col12, #T_14035_row1_col13, #T_14035_row2_col11, #T_14035_row2_col12, #T_14035_row2_col13, #T_14035_row2_col14, #T_14035_row3_col7, #T_14035_row3_col8, #T_14035_row3_col9, #T_14035_row3_col11, #T_14035_row3_col12, #T_14035_row3_col13, #T_14035_row3_col14, #T_14035_row4_col6, #T_14035_row4_col7, #T_14035_row4_col8, #T_14035_row4_col9, #T_14035_row4_col14, #T_14035_row5_col13, #T_14035_row5_col14, #T_14035_row6_col13, #T_14035_row6_col14, #T_14035_row7_col11, #T_14035_row7_col12, #T_14035_row7_col13, #T_14035_row8_col11, #T_14035_row9_col8, #T_14035_row9_col9, #T_14035_row9_col11, #T_14035_row10_col4, #T_14035_row10_col5, #T_14035_row10_col6, #T_14035_row10_col7, #T_14035_row10_col8, #T_14035_row10_col9, #T_14035_row10_col10, #T_14035_row10_col11, #T_14035_row10_col12, #T_14035_row10_col13, #T_14035_row10_col14, #T_14035_row10_col15, #T_14035_row10_col16, #T_14035_row10_col17 {\n",
              "  font-size: 6pt;\n",
              "  background-color: #ffffff;\n",
              "  color: #000000;\n",
              "}\n",
              "#T_14035_row1_col14 {\n",
              "  font-size: 6pt;\n",
              "  background-color: #b4b4b4;\n",
              "  color: #000000;\n",
              "}\n",
              "#T_14035_row1_col15 {\n",
              "  font-size: 6pt;\n",
              "  background-color: #5a5a5a;\n",
              "  color: #f1f1f1;\n",
              "}\n",
              "#T_14035_row2_col6 {\n",
              "  font-size: 6pt;\n",
              "  background-color: #131313;\n",
              "  color: #f1f1f1;\n",
              "}\n",
              "#T_14035_row2_col7, #T_14035_row4_col13 {\n",
              "  font-size: 6pt;\n",
              "  background-color: #8e8e8e;\n",
              "  color: #f1f1f1;\n",
              "}\n",
              "#T_14035_row2_col8 {\n",
              "  font-size: 6pt;\n",
              "  background-color: #979797;\n",
              "  color: #f1f1f1;\n",
              "}\n",
              "#T_14035_row2_col9 {\n",
              "  font-size: 6pt;\n",
              "  background-color: #f1f1f1;\n",
              "  color: #000000;\n",
              "}\n",
              "#T_14035_row2_col10, #T_14035_row3_col10, #T_14035_row3_col15, #T_14035_row4_col15, #T_14035_row5_col7, #T_14035_row8_col10, #T_14035_row9_col10 {\n",
              "  font-size: 6pt;\n",
              "  background-color: #fefefe;\n",
              "  color: #000000;\n",
              "}\n",
              "#T_14035_row2_col15, #T_14035_row9_col12 {\n",
              "  font-size: 6pt;\n",
              "  background-color: #fdfdfd;\n",
              "  color: #000000;\n",
              "}\n",
              "#T_14035_row2_col16 {\n",
              "  font-size: 6pt;\n",
              "  background-color: #858585;\n",
              "  color: #f1f1f1;\n",
              "}\n",
              "#T_14035_row3_col5 {\n",
              "  font-size: 6pt;\n",
              "  background-color: #222222;\n",
              "  color: #f1f1f1;\n",
              "}\n",
              "#T_14035_row3_col6 {\n",
              "  font-size: 6pt;\n",
              "  background-color: #f5f5f5;\n",
              "  color: #000000;\n",
              "}\n",
              "#T_14035_row3_col16, #T_14035_row4_col16, #T_14035_row9_col5 {\n",
              "  font-size: 6pt;\n",
              "  background-color: #c5c5c5;\n",
              "  color: #000000;\n",
              "}\n",
              "#T_14035_row4_col5 {\n",
              "  font-size: 6pt;\n",
              "  background-color: #9a9a9a;\n",
              "  color: #f1f1f1;\n",
              "}\n",
              "#T_14035_row4_col10 {\n",
              "  font-size: 6pt;\n",
              "  background-color: #f6f6f6;\n",
              "  color: #000000;\n",
              "}\n",
              "#T_14035_row4_col11, #T_14035_row7_col10 {\n",
              "  font-size: 6pt;\n",
              "  background-color: #afafaf;\n",
              "  color: #000000;\n",
              "}\n",
              "#T_14035_row5_col8 {\n",
              "  font-size: 6pt;\n",
              "  background-color: #d5d5d5;\n",
              "  color: #000000;\n",
              "}\n",
              "#T_14035_row5_col9 {\n",
              "  font-size: 6pt;\n",
              "  background-color: #505050;\n",
              "  color: #f1f1f1;\n",
              "}\n",
              "#T_14035_row5_col12 {\n",
              "  font-size: 6pt;\n",
              "  background-color: #8d8d8d;\n",
              "  color: #f1f1f1;\n",
              "}\n",
              "#T_14035_row5_col15 {\n",
              "  font-size: 6pt;\n",
              "  background-color: #f3f3f3;\n",
              "  color: #000000;\n",
              "}\n",
              "#T_14035_row5_col16, #T_14035_row9_col16 {\n",
              "  font-size: 6pt;\n",
              "  background-color: #1f1f1f;\n",
              "  color: #f1f1f1;\n",
              "}\n",
              "#T_14035_row6_col6 {\n",
              "  font-size: 6pt;\n",
              "  background-color: #3c3c3c;\n",
              "  color: #f1f1f1;\n",
              "}\n",
              "#T_14035_row6_col7 {\n",
              "  font-size: 6pt;\n",
              "  background-color: #4a4a4a;\n",
              "  color: #f1f1f1;\n",
              "}\n",
              "#T_14035_row6_col10 {\n",
              "  font-size: 6pt;\n",
              "  background-color: #111111;\n",
              "  color: #f1f1f1;\n",
              "}\n",
              "#T_14035_row6_col12, #T_14035_row8_col12 {\n",
              "  font-size: 6pt;\n",
              "  background-color: #fcfcfc;\n",
              "  color: #000000;\n",
              "}\n",
              "#T_14035_row6_col15 {\n",
              "  font-size: 6pt;\n",
              "  background-color: #757575;\n",
              "  color: #f1f1f1;\n",
              "}\n",
              "#T_14035_row7_col9 {\n",
              "  font-size: 6pt;\n",
              "  background-color: #151515;\n",
              "  color: #f1f1f1;\n",
              "}\n",
              "#T_14035_row7_col14 {\n",
              "  font-size: 6pt;\n",
              "  background-color: #a7a7a7;\n",
              "  color: #f1f1f1;\n",
              "}\n",
              "#T_14035_row8_col7 {\n",
              "  font-size: 6pt;\n",
              "  background-color: #070707;\n",
              "  color: #f1f1f1;\n",
              "}\n",
              "#T_14035_row8_col8 {\n",
              "  font-size: 6pt;\n",
              "  background-color: #9f9f9f;\n",
              "  color: #f1f1f1;\n",
              "}\n",
              "#T_14035_row8_col9 {\n",
              "  font-size: 6pt;\n",
              "  background-color: #f8f8f8;\n",
              "  color: #000000;\n",
              "}\n",
              "#T_14035_row9_col4 {\n",
              "  font-size: 6pt;\n",
              "  background-color: #444444;\n",
              "  color: #f1f1f1;\n",
              "}\n",
              "#T_14035_row9_col6 {\n",
              "  font-size: 6pt;\n",
              "  background-color: #e9e9e9;\n",
              "  color: #000000;\n",
              "}\n",
              "#T_14035_row9_col7 {\n",
              "  font-size: 6pt;\n",
              "  background-color: #ececec;\n",
              "  color: #000000;\n",
              "}\n",
              "#T_14035_row9_col13 {\n",
              "  font-size: 6pt;\n",
              "  background-color: #cbcbcb;\n",
              "  color: #000000;\n",
              "}\n",
              "#T_14035_row9_col14 {\n",
              "  font-size: 6pt;\n",
              "  background-color: #8a8a8a;\n",
              "  color: #f1f1f1;\n",
              "}\n",
              "#T_14035_row9_col15 {\n",
              "  font-size: 6pt;\n",
              "  background-color: #7f7f7f;\n",
              "  color: #f1f1f1;\n",
              "}\n",
              "</style>\n",
              "<table id=\"T_14035_\" class=\"dataframe\">\n",
              "  <thead>\n",
              "    <tr>\n",
              "      <th class=\"blank level0\" >&nbsp;</th>\n",
              "      <th class=\"col_heading level0 col0\" >0</th>\n",
              "      <th class=\"col_heading level0 col1\" >1</th>\n",
              "      <th class=\"col_heading level0 col2\" >2</th>\n",
              "      <th class=\"col_heading level0 col3\" >3</th>\n",
              "      <th class=\"col_heading level0 col4\" >4</th>\n",
              "      <th class=\"col_heading level0 col5\" >5</th>\n",
              "      <th class=\"col_heading level0 col6\" >6</th>\n",
              "      <th class=\"col_heading level0 col7\" >7</th>\n",
              "      <th class=\"col_heading level0 col8\" >8</th>\n",
              "      <th class=\"col_heading level0 col9\" >9</th>\n",
              "      <th class=\"col_heading level0 col10\" >10</th>\n",
              "      <th class=\"col_heading level0 col11\" >11</th>\n",
              "      <th class=\"col_heading level0 col12\" >12</th>\n",
              "      <th class=\"col_heading level0 col13\" >13</th>\n",
              "      <th class=\"col_heading level0 col14\" >14</th>\n",
              "      <th class=\"col_heading level0 col15\" >15</th>\n",
              "      <th class=\"col_heading level0 col16\" >16</th>\n",
              "      <th class=\"col_heading level0 col17\" >17</th>\n",
              "    </tr>\n",
              "  </thead>\n",
              "  <tbody>\n",
              "    <tr>\n",
              "      <th id=\"T_14035_level0_row0\" class=\"row_heading level0 row0\" >0</th>\n",
              "      <td id=\"T_14035_row0_col0\" class=\"data row0 col0\" >0</td>\n",
              "      <td id=\"T_14035_row0_col1\" class=\"data row0 col1\" >0</td>\n",
              "      <td id=\"T_14035_row0_col2\" class=\"data row0 col2\" >0</td>\n",
              "      <td id=\"T_14035_row0_col3\" class=\"data row0 col3\" >0</td>\n",
              "      <td id=\"T_14035_row0_col4\" class=\"data row0 col4\" >0</td>\n",
              "      <td id=\"T_14035_row0_col5\" class=\"data row0 col5\" >0</td>\n",
              "      <td id=\"T_14035_row0_col6\" class=\"data row0 col6\" >0</td>\n",
              "      <td id=\"T_14035_row0_col7\" class=\"data row0 col7\" >0</td>\n",
              "      <td id=\"T_14035_row0_col8\" class=\"data row0 col8\" >0</td>\n",
              "      <td id=\"T_14035_row0_col9\" class=\"data row0 col9\" >0</td>\n",
              "      <td id=\"T_14035_row0_col10\" class=\"data row0 col10\" >8</td>\n",
              "      <td id=\"T_14035_row0_col11\" class=\"data row0 col11\" >78</td>\n",
              "      <td id=\"T_14035_row0_col12\" class=\"data row0 col12\" >245</td>\n",
              "      <td id=\"T_14035_row0_col13\" class=\"data row0 col13\" >183</td>\n",
              "      <td id=\"T_14035_row0_col14\" class=\"data row0 col14\" >25</td>\n",
              "      <td id=\"T_14035_row0_col15\" class=\"data row0 col15\" >0</td>\n",
              "      <td id=\"T_14035_row0_col16\" class=\"data row0 col16\" >0</td>\n",
              "      <td id=\"T_14035_row0_col17\" class=\"data row0 col17\" >0</td>\n",
              "    </tr>\n",
              "    <tr>\n",
              "      <th id=\"T_14035_level0_row1\" class=\"row_heading level0 row1\" >1</th>\n",
              "      <td id=\"T_14035_row1_col0\" class=\"data row1 col0\" >0</td>\n",
              "      <td id=\"T_14035_row1_col1\" class=\"data row1 col1\" >0</td>\n",
              "      <td id=\"T_14035_row1_col2\" class=\"data row1 col2\" >0</td>\n",
              "      <td id=\"T_14035_row1_col3\" class=\"data row1 col3\" >0</td>\n",
              "      <td id=\"T_14035_row1_col4\" class=\"data row1 col4\" >0</td>\n",
              "      <td id=\"T_14035_row1_col5\" class=\"data row1 col5\" >0</td>\n",
              "      <td id=\"T_14035_row1_col6\" class=\"data row1 col6\" >0</td>\n",
              "      <td id=\"T_14035_row1_col7\" class=\"data row1 col7\" >0</td>\n",
              "      <td id=\"T_14035_row1_col8\" class=\"data row1 col8\" >0</td>\n",
              "      <td id=\"T_14035_row1_col9\" class=\"data row1 col9\" >36</td>\n",
              "      <td id=\"T_14035_row1_col10\" class=\"data row1 col10\" >157</td>\n",
              "      <td id=\"T_14035_row1_col11\" class=\"data row1 col11\" >252</td>\n",
              "      <td id=\"T_14035_row1_col12\" class=\"data row1 col12\" >252</td>\n",
              "      <td id=\"T_14035_row1_col13\" class=\"data row1 col13\" >252</td>\n",
              "      <td id=\"T_14035_row1_col14\" class=\"data row1 col14\" >156</td>\n",
              "      <td id=\"T_14035_row1_col15\" class=\"data row1 col15\" >71</td>\n",
              "      <td id=\"T_14035_row1_col16\" class=\"data row1 col16\" >0</td>\n",
              "      <td id=\"T_14035_row1_col17\" class=\"data row1 col17\" >0</td>\n",
              "    </tr>\n",
              "    <tr>\n",
              "      <th id=\"T_14035_level0_row2\" class=\"row_heading level0 row2\" >2</th>\n",
              "      <td id=\"T_14035_row2_col0\" class=\"data row2 col0\" >0</td>\n",
              "      <td id=\"T_14035_row2_col1\" class=\"data row2 col1\" >0</td>\n",
              "      <td id=\"T_14035_row2_col2\" class=\"data row2 col2\" >0</td>\n",
              "      <td id=\"T_14035_row2_col3\" class=\"data row2 col3\" >0</td>\n",
              "      <td id=\"T_14035_row2_col4\" class=\"data row2 col4\" >0</td>\n",
              "      <td id=\"T_14035_row2_col5\" class=\"data row2 col5\" >0</td>\n",
              "      <td id=\"T_14035_row2_col6\" class=\"data row2 col6\" >16</td>\n",
              "      <td id=\"T_14035_row2_col7\" class=\"data row2 col7\" >119</td>\n",
              "      <td id=\"T_14035_row2_col8\" class=\"data row2 col8\" >127</td>\n",
              "      <td id=\"T_14035_row2_col9\" class=\"data row2 col9\" >223</td>\n",
              "      <td id=\"T_14035_row2_col10\" class=\"data row2 col10\" >253</td>\n",
              "      <td id=\"T_14035_row2_col11\" class=\"data row2 col11\" >252</td>\n",
              "      <td id=\"T_14035_row2_col12\" class=\"data row2 col12\" >252</td>\n",
              "      <td id=\"T_14035_row2_col13\" class=\"data row2 col13\" >252</td>\n",
              "      <td id=\"T_14035_row2_col14\" class=\"data row2 col14\" >252</td>\n",
              "      <td id=\"T_14035_row2_col15\" class=\"data row2 col15\" >250</td>\n",
              "      <td id=\"T_14035_row2_col16\" class=\"data row2 col16\" >111</td>\n",
              "      <td id=\"T_14035_row2_col17\" class=\"data row2 col17\" >0</td>\n",
              "    </tr>\n",
              "    <tr>\n",
              "      <th id=\"T_14035_level0_row3\" class=\"row_heading level0 row3\" >3</th>\n",
              "      <td id=\"T_14035_row3_col0\" class=\"data row3 col0\" >0</td>\n",
              "      <td id=\"T_14035_row3_col1\" class=\"data row3 col1\" >0</td>\n",
              "      <td id=\"T_14035_row3_col2\" class=\"data row3 col2\" >0</td>\n",
              "      <td id=\"T_14035_row3_col3\" class=\"data row3 col3\" >0</td>\n",
              "      <td id=\"T_14035_row3_col4\" class=\"data row3 col4\" >0</td>\n",
              "      <td id=\"T_14035_row3_col5\" class=\"data row3 col5\" >29</td>\n",
              "      <td id=\"T_14035_row3_col6\" class=\"data row3 col6\" >232</td>\n",
              "      <td id=\"T_14035_row3_col7\" class=\"data row3 col7\" >252</td>\n",
              "      <td id=\"T_14035_row3_col8\" class=\"data row3 col8\" >252</td>\n",
              "      <td id=\"T_14035_row3_col9\" class=\"data row3 col9\" >252</td>\n",
              "      <td id=\"T_14035_row3_col10\" class=\"data row3 col10\" >253</td>\n",
              "      <td id=\"T_14035_row3_col11\" class=\"data row3 col11\" >252</td>\n",
              "      <td id=\"T_14035_row3_col12\" class=\"data row3 col12\" >252</td>\n",
              "      <td id=\"T_14035_row3_col13\" class=\"data row3 col13\" >252</td>\n",
              "      <td id=\"T_14035_row3_col14\" class=\"data row3 col14\" >252</td>\n",
              "      <td id=\"T_14035_row3_col15\" class=\"data row3 col15\" >253</td>\n",
              "      <td id=\"T_14035_row3_col16\" class=\"data row3 col16\" >168</td>\n",
              "      <td id=\"T_14035_row3_col17\" class=\"data row3 col17\" >0</td>\n",
              "    </tr>\n",
              "    <tr>\n",
              "      <th id=\"T_14035_level0_row4\" class=\"row_heading level0 row4\" >4</th>\n",
              "      <td id=\"T_14035_row4_col0\" class=\"data row4 col0\" >0</td>\n",
              "      <td id=\"T_14035_row4_col1\" class=\"data row4 col1\" >0</td>\n",
              "      <td id=\"T_14035_row4_col2\" class=\"data row4 col2\" >0</td>\n",
              "      <td id=\"T_14035_row4_col3\" class=\"data row4 col3\" >0</td>\n",
              "      <td id=\"T_14035_row4_col4\" class=\"data row4 col4\" >0</td>\n",
              "      <td id=\"T_14035_row4_col5\" class=\"data row4 col5\" >130</td>\n",
              "      <td id=\"T_14035_row4_col6\" class=\"data row4 col6\" >252</td>\n",
              "      <td id=\"T_14035_row4_col7\" class=\"data row4 col7\" >252</td>\n",
              "      <td id=\"T_14035_row4_col8\" class=\"data row4 col8\" >252</td>\n",
              "      <td id=\"T_14035_row4_col9\" class=\"data row4 col9\" >252</td>\n",
              "      <td id=\"T_14035_row4_col10\" class=\"data row4 col10\" >236</td>\n",
              "      <td id=\"T_14035_row4_col11\" class=\"data row4 col11\" >147</td>\n",
              "      <td id=\"T_14035_row4_col12\" class=\"data row4 col12\" >50</td>\n",
              "      <td id=\"T_14035_row4_col13\" class=\"data row4 col13\" >182</td>\n",
              "      <td id=\"T_14035_row4_col14\" class=\"data row4 col14\" >252</td>\n",
              "      <td id=\"T_14035_row4_col15\" class=\"data row4 col15\" >253</td>\n",
              "      <td id=\"T_14035_row4_col16\" class=\"data row4 col16\" >168</td>\n",
              "      <td id=\"T_14035_row4_col17\" class=\"data row4 col17\" >0</td>\n",
              "    </tr>\n",
              "    <tr>\n",
              "      <th id=\"T_14035_level0_row5\" class=\"row_heading level0 row5\" >5</th>\n",
              "      <td id=\"T_14035_row5_col0\" class=\"data row5 col0\" >0</td>\n",
              "      <td id=\"T_14035_row5_col1\" class=\"data row5 col1\" >0</td>\n",
              "      <td id=\"T_14035_row5_col2\" class=\"data row5 col2\" >0</td>\n",
              "      <td id=\"T_14035_row5_col3\" class=\"data row5 col3\" >0</td>\n",
              "      <td id=\"T_14035_row5_col4\" class=\"data row5 col4\" >0</td>\n",
              "      <td id=\"T_14035_row5_col5\" class=\"data row5 col5\" >36</td>\n",
              "      <td id=\"T_14035_row5_col6\" class=\"data row5 col6\" >243</td>\n",
              "      <td id=\"T_14035_row5_col7\" class=\"data row5 col7\" >250</td>\n",
              "      <td id=\"T_14035_row5_col8\" class=\"data row5 col8\" >185</td>\n",
              "      <td id=\"T_14035_row5_col9\" class=\"data row5 col9\" >62</td>\n",
              "      <td id=\"T_14035_row5_col10\" class=\"data row5 col10\" >0</td>\n",
              "      <td id=\"T_14035_row5_col11\" class=\"data row5 col11\" >0</td>\n",
              "      <td id=\"T_14035_row5_col12\" class=\"data row5 col12\" >145</td>\n",
              "      <td id=\"T_14035_row5_col13\" class=\"data row5 col13\" >253</td>\n",
              "      <td id=\"T_14035_row5_col14\" class=\"data row5 col14\" >253</td>\n",
              "      <td id=\"T_14035_row5_col15\" class=\"data row5 col15\" >230</td>\n",
              "      <td id=\"T_14035_row5_col16\" class=\"data row5 col16\" >27</td>\n",
              "      <td id=\"T_14035_row5_col17\" class=\"data row5 col17\" >0</td>\n",
              "    </tr>\n",
              "    <tr>\n",
              "      <th id=\"T_14035_level0_row6\" class=\"row_heading level0 row6\" >6</th>\n",
              "      <td id=\"T_14035_row6_col0\" class=\"data row6 col0\" >0</td>\n",
              "      <td id=\"T_14035_row6_col1\" class=\"data row6 col1\" >0</td>\n",
              "      <td id=\"T_14035_row6_col2\" class=\"data row6 col2\" >0</td>\n",
              "      <td id=\"T_14035_row6_col3\" class=\"data row6 col3\" >0</td>\n",
              "      <td id=\"T_14035_row6_col4\" class=\"data row6 col4\" >0</td>\n",
              "      <td id=\"T_14035_row6_col5\" class=\"data row6 col5\" >0</td>\n",
              "      <td id=\"T_14035_row6_col6\" class=\"data row6 col6\" >48</td>\n",
              "      <td id=\"T_14035_row6_col7\" class=\"data row6 col7\" >58</td>\n",
              "      <td id=\"T_14035_row6_col8\" class=\"data row6 col8\" >0</td>\n",
              "      <td id=\"T_14035_row6_col9\" class=\"data row6 col9\" >0</td>\n",
              "      <td id=\"T_14035_row6_col10\" class=\"data row6 col10\" >15</td>\n",
              "      <td id=\"T_14035_row6_col11\" class=\"data row6 col11\" >121</td>\n",
              "      <td id=\"T_14035_row6_col12\" class=\"data row6 col12\" >247</td>\n",
              "      <td id=\"T_14035_row6_col13\" class=\"data row6 col13\" >252</td>\n",
              "      <td id=\"T_14035_row6_col14\" class=\"data row6 col14\" >252</td>\n",
              "      <td id=\"T_14035_row6_col15\" class=\"data row6 col15\" >97</td>\n",
              "      <td id=\"T_14035_row6_col16\" class=\"data row6 col16\" >0</td>\n",
              "      <td id=\"T_14035_row6_col17\" class=\"data row6 col17\" >0</td>\n",
              "    </tr>\n",
              "    <tr>\n",
              "      <th id=\"T_14035_level0_row7\" class=\"row_heading level0 row7\" >7</th>\n",
              "      <td id=\"T_14035_row7_col0\" class=\"data row7 col0\" >0</td>\n",
              "      <td id=\"T_14035_row7_col1\" class=\"data row7 col1\" >0</td>\n",
              "      <td id=\"T_14035_row7_col2\" class=\"data row7 col2\" >0</td>\n",
              "      <td id=\"T_14035_row7_col3\" class=\"data row7 col3\" >0</td>\n",
              "      <td id=\"T_14035_row7_col4\" class=\"data row7 col4\" >0</td>\n",
              "      <td id=\"T_14035_row7_col5\" class=\"data row7 col5\" >0</td>\n",
              "      <td id=\"T_14035_row7_col6\" class=\"data row7 col6\" >0</td>\n",
              "      <td id=\"T_14035_row7_col7\" class=\"data row7 col7\" >0</td>\n",
              "      <td id=\"T_14035_row7_col8\" class=\"data row7 col8\" >0</td>\n",
              "      <td id=\"T_14035_row7_col9\" class=\"data row7 col9\" >18</td>\n",
              "      <td id=\"T_14035_row7_col10\" class=\"data row7 col10\" >148</td>\n",
              "      <td id=\"T_14035_row7_col11\" class=\"data row7 col11\" >252</td>\n",
              "      <td id=\"T_14035_row7_col12\" class=\"data row7 col12\" >252</td>\n",
              "      <td id=\"T_14035_row7_col13\" class=\"data row7 col13\" >252</td>\n",
              "      <td id=\"T_14035_row7_col14\" class=\"data row7 col14\" >146</td>\n",
              "      <td id=\"T_14035_row7_col15\" class=\"data row7 col15\" >0</td>\n",
              "      <td id=\"T_14035_row7_col16\" class=\"data row7 col16\" >0</td>\n",
              "      <td id=\"T_14035_row7_col17\" class=\"data row7 col17\" >0</td>\n",
              "    </tr>\n",
              "    <tr>\n",
              "      <th id=\"T_14035_level0_row8\" class=\"row_heading level0 row8\" >8</th>\n",
              "      <td id=\"T_14035_row8_col0\" class=\"data row8 col0\" >0</td>\n",
              "      <td id=\"T_14035_row8_col1\" class=\"data row8 col1\" >0</td>\n",
              "      <td id=\"T_14035_row8_col2\" class=\"data row8 col2\" >0</td>\n",
              "      <td id=\"T_14035_row8_col3\" class=\"data row8 col3\" >0</td>\n",
              "      <td id=\"T_14035_row8_col4\" class=\"data row8 col4\" >0</td>\n",
              "      <td id=\"T_14035_row8_col5\" class=\"data row8 col5\" >0</td>\n",
              "      <td id=\"T_14035_row8_col6\" class=\"data row8 col6\" >0</td>\n",
              "      <td id=\"T_14035_row8_col7\" class=\"data row8 col7\" >6</td>\n",
              "      <td id=\"T_14035_row8_col8\" class=\"data row8 col8\" >134</td>\n",
              "      <td id=\"T_14035_row8_col9\" class=\"data row8 col9\" >239</td>\n",
              "      <td id=\"T_14035_row8_col10\" class=\"data row8 col10\" >253</td>\n",
              "      <td id=\"T_14035_row8_col11\" class=\"data row8 col11\" >252</td>\n",
              "      <td id=\"T_14035_row8_col12\" class=\"data row8 col12\" >247</td>\n",
              "      <td id=\"T_14035_row8_col13\" class=\"data row8 col13\" >119</td>\n",
              "      <td id=\"T_14035_row8_col14\" class=\"data row8 col14\" >14</td>\n",
              "      <td id=\"T_14035_row8_col15\" class=\"data row8 col15\" >0</td>\n",
              "      <td id=\"T_14035_row8_col16\" class=\"data row8 col16\" >0</td>\n",
              "      <td id=\"T_14035_row8_col17\" class=\"data row8 col17\" >0</td>\n",
              "    </tr>\n",
              "    <tr>\n",
              "      <th id=\"T_14035_level0_row9\" class=\"row_heading level0 row9\" >9</th>\n",
              "      <td id=\"T_14035_row9_col0\" class=\"data row9 col0\" >0</td>\n",
              "      <td id=\"T_14035_row9_col1\" class=\"data row9 col1\" >0</td>\n",
              "      <td id=\"T_14035_row9_col2\" class=\"data row9 col2\" >0</td>\n",
              "      <td id=\"T_14035_row9_col3\" class=\"data row9 col3\" >0</td>\n",
              "      <td id=\"T_14035_row9_col4\" class=\"data row9 col4\" >45</td>\n",
              "      <td id=\"T_14035_row9_col5\" class=\"data row9 col5\" >168</td>\n",
              "      <td id=\"T_14035_row9_col6\" class=\"data row9 col6\" >211</td>\n",
              "      <td id=\"T_14035_row9_col7\" class=\"data row9 col7\" >215</td>\n",
              "      <td id=\"T_14035_row9_col8\" class=\"data row9 col8\" >252</td>\n",
              "      <td id=\"T_14035_row9_col9\" class=\"data row9 col9\" >252</td>\n",
              "      <td id=\"T_14035_row9_col10\" class=\"data row9 col10\" >253</td>\n",
              "      <td id=\"T_14035_row9_col11\" class=\"data row9 col11\" >252</td>\n",
              "      <td id=\"T_14035_row9_col12\" class=\"data row9 col12\" >249</td>\n",
              "      <td id=\"T_14035_row9_col13\" class=\"data row9 col13\" >211</td>\n",
              "      <td id=\"T_14035_row9_col14\" class=\"data row9 col14\" >124</td>\n",
              "      <td id=\"T_14035_row9_col15\" class=\"data row9 col15\" >107</td>\n",
              "      <td id=\"T_14035_row9_col16\" class=\"data row9 col16\" >27</td>\n",
              "      <td id=\"T_14035_row9_col17\" class=\"data row9 col17\" >0</td>\n",
              "    </tr>\n",
              "    <tr>\n",
              "      <th id=\"T_14035_level0_row10\" class=\"row_heading level0 row10\" >10</th>\n",
              "      <td id=\"T_14035_row10_col0\" class=\"data row10 col0\" >0</td>\n",
              "      <td id=\"T_14035_row10_col1\" class=\"data row10 col1\" >0</td>\n",
              "      <td id=\"T_14035_row10_col2\" class=\"data row10 col2\" >0</td>\n",
              "      <td id=\"T_14035_row10_col3\" class=\"data row10 col3\" >0</td>\n",
              "      <td id=\"T_14035_row10_col4\" class=\"data row10 col4\" >212</td>\n",
              "      <td id=\"T_14035_row10_col5\" class=\"data row10 col5\" >254</td>\n",
              "      <td id=\"T_14035_row10_col6\" class=\"data row10 col6\" >253</td>\n",
              "      <td id=\"T_14035_row10_col7\" class=\"data row10 col7\" >253</td>\n",
              "      <td id=\"T_14035_row10_col8\" class=\"data row10 col8\" >253</td>\n",
              "      <td id=\"T_14035_row10_col9\" class=\"data row10 col9\" >253</td>\n",
              "      <td id=\"T_14035_row10_col10\" class=\"data row10 col10\" >255</td>\n",
              "      <td id=\"T_14035_row10_col11\" class=\"data row10 col11\" >253</td>\n",
              "      <td id=\"T_14035_row10_col12\" class=\"data row10 col12\" >253</td>\n",
              "      <td id=\"T_14035_row10_col13\" class=\"data row10 col13\" >253</td>\n",
              "      <td id=\"T_14035_row10_col14\" class=\"data row10 col14\" >253</td>\n",
              "      <td id=\"T_14035_row10_col15\" class=\"data row10 col15\" >255</td>\n",
              "      <td id=\"T_14035_row10_col16\" class=\"data row10 col16\" >253</td>\n",
              "      <td id=\"T_14035_row10_col17\" class=\"data row10 col17\" >21</td>\n",
              "    </tr>\n",
              "  </tbody>\n",
              "</table>\n"
            ]
          },
          "metadata": {},
          "execution_count": 14
        }
      ],
      "source": [
        "im3_t = tensor(im3)\n",
        "df = pd.DataFrame(im3_t[4:15,4:22])\n",
        "df.style.set_properties(**{'font-size':'6pt'}).background_gradient('Greys_r')\n",
        "# just for visualization\n",
        "# sanity check"
      ]
    },
    {
      "cell_type": "markdown",
      "metadata": {
        "id": "Sc9aQAVckJ7s"
      },
      "source": [
        "## First Try: Pixel Similarity"
      ]
    },
    {
      "cell_type": "code",
      "execution_count": null,
      "metadata": {
        "id": "fjMj9gXckJ7t",
        "outputId": "102c0d89-9859-46f3-fb9c-6e5e2770880d",
        "colab": {
          "base_uri": "https://localhost:8080/"
        }
      },
      "outputs": [
        {
          "output_type": "execute_result",
          "data": {
            "text/plain": [
              "(6131, 6265)"
            ]
          },
          "metadata": {},
          "execution_count": 15
        }
      ],
      "source": [
        "seven_tensors = [tensor(Image.open(o)) for o in sevens]\n",
        "three_tensors = [tensor(Image.open(o)) for o in threes]\n",
        "len(three_tensors),len(seven_tensors)\n",
        "# list of tensors of each image"
      ]
    },
    {
      "cell_type": "code",
      "execution_count": null,
      "metadata": {
        "id": "ZX8oi-eUkJ7t",
        "outputId": "5cb71ee9-7fe3-454d-f91e-9eabedb47dc5",
        "colab": {
          "base_uri": "https://localhost:8080/",
          "height": 85
        }
      },
      "outputs": [
        {
          "output_type": "display_data",
          "data": {
            "text/plain": [
              "<Figure size 72x72 with 1 Axes>"
            ],
            "image/png": "[encoded data removed]"
          },
          "metadata": {
            "needs_background": "light"
          }
        }
      ],
      "source": [
        "show_image(three_tensors[1]);\n",
        "# sanity check"
      ]
    },
    {
      "cell_type": "code",
      "source": [
        "stacked_sevens = torch.stack(seven_tensors).float()/255\n",
        "stacked_threes = torch.stack(three_tensors).float()/255\n",
        "stacked_threes.shape"
      ],
      "metadata": {
        "id": "5x-gxrHbY_dY",
        "outputId": "98d05675-ae0a-41df-8774-1358bfc51c8b",
        "colab": {
          "base_uri": "https://localhost:8080/"
        }
      },
      "execution_count": null,
      "outputs": [
        {
          "output_type": "execute_result",
          "data": {
            "text/plain": [
              "torch.Size([6131, 28, 28])"
            ]
          },
          "metadata": {},
          "execution_count": 17
        }
      ]
    },
    {
      "cell_type": "code",
      "source": [
        "mean3 = stacked_threes.mean(0)\n",
        "# mean(0) collapses axis 0.\n",
        "# stacked_threes's shape is (N, 28,28) where N is the # of\n",
        "# 3s in training data\n",
        "# collapsing axis 0, removes the axis at index 0, resulting\n",
        "# in tensor (mean3) of shape (28, 28)\n",
        "# similar for stacked_sevens to mean7\n",
        "mean7 = stacked_sevens.mean(0)\n",
        "\n",
        "show_image(mean3);\n",
        "show_image(mean7);"
      ],
      "metadata": {
        "id": "tVMx0gr-FiTB",
        "outputId": "17a24cb7-fdc5-47c1-89fb-3d4d04cbc299",
        "colab": {
          "base_uri": "https://localhost:8080/",
          "height": 153
        }
      },
      "execution_count": null,
      "outputs": [
        {
          "output_type": "display_data",
          "data": {
            "text/plain": [
              "<Figure size 72x72 with 1 Axes>"
            ],
            "image/png": "[encoded data removed]"
          },
          "metadata": {
            "needs_background": "light"
          }
        },
        {
          "output_type": "display_data",
          "data": {
            "text/plain": [
              "<Figure size 72x72 with 1 Axes>"
            ],
            "image/png": "[encoded data removed]"
          },
          "metadata": {
            "needs_background": "light"
          }
        }
      ]
    },
    {
      "cell_type": "code",
      "source": [
        "u = torch.randint(10, (5000,)).float()\n",
        "v = torch.randint(10, (5000,)).float()\n"
      ],
      "metadata": {
        "id": "D5OVtIMLFrCR"
      },
      "execution_count": null,
      "outputs": []
    },
    {
      "cell_type": "code",
      "source": [
        "\n",
        "def slow_dist(a, b):\n",
        "  # returns Euclidean distance between 2 vectors a, b\n",
        "  # \n",
        "  # squareroot of the sum of the squared\n",
        "  # component-wise differences\n",
        "  sum = 0\n",
        "  for ai, bi in zip(a, b):\n",
        "    sum += (ai - bi) ** 2\n",
        "  return sum ** 0.5\n",
        "\n",
        "def slow_distL1(a,b):\n",
        "  # returns L1 aka Manhattan distance between 2 vectors a, b\n",
        "  # \n",
        "  # sum of the absolute component-wise differences\n",
        "  sum = 0\n",
        "  for ai, bi in zip(a,b):\n",
        "    sum += abs(ai - bi)\n",
        "  return sum\n",
        "\n",
        "\n",
        "d_uv = slow_dist(u,v)\n",
        "dL1_uv = slow_distL1(v,u)\n",
        "d_uv, dL1_uv"
      ],
      "metadata": {
        "id": "6MltF2ZEIRDx",
        "outputId": "542b9aac-c996-46b0-e93a-98364ff650ec",
        "colab": {
          "base_uri": "https://localhost:8080/"
        }
      },
      "execution_count": null,
      "outputs": [
        {
          "output_type": "execute_result",
          "data": {
            "text/plain": [
              "(tensor(292.8669), tensor(16877.))"
            ]
          },
          "metadata": {},
          "execution_count": 20
        }
      ]
    },
    {
      "cell_type": "code",
      "source": [
        "def distance(a,b):\n",
        "  return ((a-b)**2).sum().sqrt()\n",
        "\n",
        "def distanceL1(a,b):\n",
        "  return (a-b).abs().sum()\n",
        "\n",
        "d_uv = distance(u,v)\n",
        "dL1_uv = distanceL1(u,v)\n",
        "d_uv, dL1_uv"
      ],
      "metadata": {
        "id": "SZPhI03hH0vR",
        "outputId": "947bbcf6-54cd-45ac-96ac-032929774862",
        "colab": {
          "base_uri": "https://localhost:8080/"
        }
      },
      "execution_count": null,
      "outputs": [
        {
          "output_type": "execute_result",
          "data": {
            "text/plain": [
              "(tensor(292.8669), tensor(16877.))"
            ]
          },
          "metadata": {},
          "execution_count": 21
        }
      ]
    },
    {
      "cell_type": "code",
      "source": [
        "def mnist_distance(a,b):\n",
        "  return (a-b).abs().sum((-1,-2))"
      ],
      "metadata": {
        "id": "O-xRlh0NqOIe"
      },
      "execution_count": null,
      "outputs": []
    },
    {
      "cell_type": "code",
      "source": [
        "## TODO:\n",
        "# what would be a good sanity check?\n"
      ],
      "metadata": {
        "id": "TvSisr5WqZbK"
      },
      "execution_count": null,
      "outputs": []
    },
    {
      "cell_type": "code",
      "source": [
        "# broadcasting"
      ],
      "metadata": {
        "id": "KkH-NEQxqezl"
      },
      "execution_count": null,
      "outputs": []
    },
    {
      "cell_type": "code",
      "source": [
        "dist33 = mnist_distance(mean3, stacked_threes)\n",
        "dist33.shape\n"
      ],
      "metadata": {
        "id": "PosrVWqVqrcW",
        "outputId": "0b23f39f-7a6a-4cf4-e470-43da3b86215d",
        "colab": {
          "base_uri": "https://localhost:8080/"
        }
      },
      "execution_count": null,
      "outputs": [
        {
          "output_type": "execute_result",
          "data": {
            "text/plain": [
              "torch.Size([6131])"
            ]
          },
          "metadata": {},
          "execution_count": 26
        }
      ]
    },
    {
      "cell_type": "code",
      "source": [
        "threes_valid = (path/'valid'/'3').ls().sorted()\n",
        "sevens_valid = (path/'valid'/'7').ls().sorted()\n",
        "seven_tensors_valid = [tensor(Image.open(o)) for o in sevens_valid]\n",
        "three_tensors_valid = [tensor(Image.open(o)) for o in threes_valid]\n",
        "stacked_sevens_valid = torch.stack(seven_tensors_valid).float()/255\n",
        "stacked_threes_valid = torch.stack(three_tensors_valid).float()/255\n"
      ],
      "metadata": {
        "id": "KD-q83H7MyG1"
      },
      "execution_count": null,
      "outputs": []
    },
    {
      "cell_type": "code",
      "source": [
        "# write is_3 function\n",
        "def is_3(a):\n",
        "  return (mnist_distance(mean3, a)\n",
        "   < mnist_distance(mean7, a))"
      ],
      "metadata": {
        "id": "Ibr8oGqyquiq"
      },
      "execution_count": null,
      "outputs": []
    },
    {
      "cell_type": "code",
      "source": [
        "is_3(stacked_threes[0]), is_3(stacked_sevens[0])"
      ],
      "metadata": {
        "id": "RSji0klaq2PH",
        "outputId": "78ab1504-ed45-4fdf-9d4b-b60c35d11761",
        "colab": {
          "base_uri": "https://localhost:8080/"
        }
      },
      "execution_count": null,
      "outputs": [
        {
          "output_type": "execute_result",
          "data": {
            "text/plain": [
              "(tensor(True), tensor(False))"
            ]
          },
          "metadata": {},
          "execution_count": 29
        }
      ]
    },
    {
      "cell_type": "code",
      "source": [
        "seven_preds_val = is_3(stacked_sevens_valid)\n",
        "three_preds_val = is_3(stacked_threes_valid)\n",
        "seven_preds_val"
      ],
      "metadata": {
        "id": "hGMgdvnXq6mk",
        "outputId": "35fab62e-462b-4c79-961e-a77e9606d95d",
        "colab": {
          "base_uri": "https://localhost:8080/"
        }
      },
      "execution_count": null,
      "outputs": [
        {
          "output_type": "execute_result",
          "data": {
            "text/plain": [
              "tensor([False, False, False,  ..., False, False, False])"
            ]
          },
          "metadata": {},
          "execution_count": 31
        }
      ]
    },
    {
      "cell_type": "code",
      "source": [
        "three_acc = (three_preds_val.float().sum()\n",
        "/three_preds_val.shape[0])\n",
        "seven_acc = ((1 - seven_preds_val.float()).sum()\n",
        "/ seven_preds_val.shape[0])\n",
        "three_acc.item(), seven_acc.item()\n",
        "\n"
      ],
      "metadata": {
        "id": "xK8ZIaPjq36U",
        "outputId": "b0591622-96b2-40f6-c9c6-ec5572846818",
        "colab": {
          "base_uri": "https://localhost:8080/"
        }
      },
      "execution_count": null,
      "outputs": [
        {
          "output_type": "execute_result",
          "data": {
            "text/plain": [
              "(0.9168316721916199, 0.9854085445404053)"
            ]
          },
          "metadata": {},
          "execution_count": 33
        }
      ]
    },
    {
      "cell_type": "markdown",
      "source": [
        "Suppose we arrange for some automatic means of testing the effectiveness of any current weight assignment in terms of actual performance and provide a mechanism for altering the weight assignment so as to maximize the performance. We need not go into the details of such a procedure to see that it could be made entirely automatic and to see that a machine so programmed would \"learn\" from its experience."
      ],
      "metadata": {
        "id": "Pqplno8HNrzK"
      }
    },
    {
      "cell_type": "markdown",
      "source": [],
      "metadata": {
        "id": "5e7Fk11ENrkk"
      }
    }
  ],
  "metadata": {
    "jupytext": {
      "split_at_heading": true
    },
    "kernelspec": {
      "display_name": "Python 3 (ipykernel)",
      "language": "python",
      "name": "python3"
    },
    "colab": {
      "provenance": [],
      "include_colab_link": true
    },
    "accelerator": "GPU"
  },
  "nbformat": 4,
  "nbformat_minor": 0
}